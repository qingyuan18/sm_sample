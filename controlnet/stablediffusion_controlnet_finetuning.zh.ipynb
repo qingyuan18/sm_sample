{
 "cells": [
  {
   "cell_type": "markdown",
   "id": "a0e92bd0",
   "metadata": {
    "pycharm": {
     "name": "#%% md\n"
    }
   },
   "source": [
    "### controlnet 模型微调\n",
    "controlnet模型使得用户可以通过施加额外条件，细粒度地控制扩散模型的生成过程。这一技术最初由 Adding Conditional Control to Text-to-Image Diffusion Models 这篇论文提出，并很快地风靡了扩散模型的开源社区。作者开源了 8 个不同的模型，使得用户可以用 8 种条件去控制 Stable Diffusion 模型（包括版本 1 到 5 ）。这 8 种条件包括姿态估计、深度图、边缘图、素描图。\n",
    "\n",
    "接下来我们将使用 controlnet 来微调我们的 stable diffusion xl模型.\n",
    "\n",
    "#### Notebook 步骤\n",
    "1. 导入 boto3, sagemaker python SDK\n",
    "2. 构建 controlnet fine-tuning 镜像\n",
    "3. 实现模型微调\n",
    "   * 配置超参\n",
    "   * 创建训练任务\n",
    "4. 测试"
   ]
  },
  {
   "cell_type": "markdown",
   "id": "eb9eb077",
   "metadata": {
    "pycharm": {
     "name": "#%% md\n"
    }
   },
   "source": [
    "#### 1. 导入 boto3, sagemaker python SDK"
   ]
  },
  {
   "cell_type": "code",
   "execution_count": 12,
   "id": "8314fc9b-c468-497b-abcc-259ec792154c",
   "metadata": {
    "pycharm": {
     "name": "#%%\n"
    },
    "tags": []
   },
   "outputs": [
    {
     "name": "stdout",
     "output_type": "stream",
     "text": [
      "sagemaker.config INFO - Not applying SDK defaults from location: /etc/xdg/sagemaker/config.yaml\n",
      "sagemaker.config INFO - Not applying SDK defaults from location: /home/ec2-user/.config/sagemaker/config.yaml\n",
      "sagemaker.config INFO - Not applying SDK defaults from location: /etc/xdg/sagemaker/config.yaml\n",
      "sagemaker.config INFO - Not applying SDK defaults from location: /home/ec2-user/.config/sagemaker/config.yaml\n"
     ]
    }
   ],
   "source": [
    "import sagemaker\n",
    "import boto3\n",
    "from sagemaker.pytorch import PyTorch\n",
    "sagemaker_session = sagemaker.Session()\n",
    "bucket = sagemaker_session.default_bucket()\n",
    "role = sagemaker.get_execution_role()\n",
    "account_id = boto3.client('sts').get_caller_identity().get('Account')\n",
    "region_name = boto3.session.Session().region_name\n",
    "\n",
    "images_s3uri = 's3://{0}/controlnet-xl/images/'.format(bucket)\n",
    "models_s3uri = 's3://{0}/stable-diffusion/models/'.format(bucket)\n",
    "controlnet_s3uri = 's3://{0}/stable-diffusion/controlnet/'.format(bucket)"
   ]
  },
  {
   "cell_type": "markdown",
   "id": "bd2a3178",
   "metadata": {
    "pycharm": {
     "name": "#%% md\n"
    }
   },
   "source": [
    "#### 2. 构建 controlnet xl fine-tuning 镜像"
   ]
  },
  {
   "cell_type": "code",
   "execution_count": 7,
   "id": "15c49cae-3336-4e34-aefd-c53e396f7b04",
   "metadata": {
    "tags": []
   },
   "outputs": [
    {
     "name": "stdout",
     "output_type": "stream",
     "text": [
      "Cloning into 'diffusers'...\n",
      "remote: Enumerating objects: 43056, done.\u001b[K\n",
      "remote: Counting objects: 100% (35/35), done.\u001b[K\n",
      "remote: Compressing objects: 100% (18/18), done.\u001b[K\n",
      "remote: Total 43056 (delta 21), reused 21 (delta 14), pack-reused 43021\u001b[K\n",
      "Receiving objects: 100% (43056/43056), 27.63 MiB | 36.04 MiB/s, done.\n",
      "Resolving deltas: 100% (31887/31887), done.\n"
     ]
    }
   ],
   "source": [
    "!rm -rf sd_controlnet\n",
    "!mkdir -p sd_controlnet\n",
    "!cd sd_controlnet && git clone https://github.com/huggingface/diffusers"
   ]
  },
  {
   "cell_type": "code",
   "execution_count": 8,
   "id": "a7612e5a",
   "metadata": {
    "pycharm": {
     "name": "#%%\n"
    },
    "tags": []
   },
   "outputs": [
    {
     "name": "stdout",
     "output_type": "stream",
     "text": [
      "Overwriting Dockerfile_controlnet\n"
     ]
    }
   ],
   "source": [
    "%%writefile Dockerfile_controlnet\n",
    "## You should change below region code to the region you used, here sample is use us-west-2\n",
    "#From 763104351884.dkr.ecr.us-west-2.amazonaws.com/huggingface-pytorch-training:1.13.1-transformers4.26.0-gpu-py39-cu117-ubuntu20.04\n",
    "From 763104351884.dkr.ecr.us-west-2.amazonaws.com/huggingface-pytorch-training:2.0.0-transformers4.28.1-gpu-py310-cu118-ubuntu20.04\n",
    "\n",
    "RUN pip install wandb\n",
    "RUN pip install bitsandbytes\n",
    "#RUN export TORCH_CUDA_ARCH_LIST=\"7.5 8.0 8.6\" && export FORCE_CUDA=\"1\" && pip install ninja triton==2.0.0.dev20221120 && git clone https://github.com/xieyongliang/xformers.git /tmp/xformers && cd /tmp/xformers && git submodule update --init --recursive && pip install -r requirements.txt && pip install -e . \n",
    "\n",
    "\n",
    "ENV LANG=C.UTF-8\n",
    "ENV PYTHONUNBUFFERED=TRUE\n",
    "ENV PYTHONDONTWRITEBYTECODE=TRUE"
   ]
  },
  {
   "cell_type": "markdown",
   "id": "9d70d510-caf7-4b48-95d4-f9bc2eaa0648",
   "metadata": {},
   "source": [
    "* build & push docker镜像"
   ]
  },
  {
   "cell_type": "code",
   "execution_count": 3,
   "id": "f573e3c1-5e49-43cd-b71b-c858547192c9",
   "metadata": {
    "tags": []
   },
   "outputs": [
    {
     "name": "stdout",
     "output_type": "stream",
     "text": [
      "WARNING! Your password will be stored unencrypted in /home/ec2-user/.docker/config.json.\n",
      "Configure a credential helper to remove this warning. See\n",
      "https://docs.docker.com/engine/reference/commandline/login/#credentials-store\n",
      "\n",
      "Login Succeeded\n"
     ]
    }
   ],
   "source": [
    "## You should change below region code to the region you used, here sample is use us-west-2\n",
    "!aws ecr get-login-password --region us-west-2 | docker login --username AWS --password-stdin 763104351884.dkr.ecr.us-west-2.amazonaws.com"
   ]
  },
  {
   "cell_type": "code",
   "execution_count": 4,
   "id": "a69253dd-850f-41b7-b57a-437273648a46",
   "metadata": {
    "tags": []
   },
   "outputs": [],
   "source": [
    "## define repo name, should contain *sagemaker* in the name\n",
    "repo_name = \"sd_controlnet_finetuning\""
   ]
  },
  {
   "cell_type": "code",
   "execution_count": null,
   "id": "20a370fa-bdf7-47a6-892d-f05adcf5904c",
   "metadata": {
    "tags": []
   },
   "outputs": [],
   "source": [
    "%%script env repo_name=$repo_name bash\n",
    "\n",
    "#!/usr/bin/env bash\n",
    "\n",
    "# This script shows how to build the Docker image and push it to ECR to be ready for use\n",
    "# by SageMaker.\n",
    "\n",
    "# The argument to this script is the image name. This will be used as the image on the local\n",
    "# machine and combined with the account and region to form the repository name for ECR.\n",
    "# The name of our algorithm\n",
    "algorithm_name=${repo_name}\n",
    "\n",
    "account=$(aws sts get-caller-identity --query Account --output text)\n",
    "\n",
    "# Get the region defined in the current configuration (default to us-west-2 if none defined)\n",
    "region=$(aws configure get region)\n",
    "region=${region:-us-west-2}\n",
    "\n",
    "fullname=\"${account}.dkr.ecr.${region}.amazonaws.com/${algorithm_name}:latest\"\n",
    "\n",
    "# If the repository doesn't exist in ECR, create it.\n",
    "aws ecr describe-repositories --repository-names \"${algorithm_name}\" > /dev/null 2>&1\n",
    "\n",
    "if [ $? -ne 0 ]\n",
    "then\n",
    "    aws ecr create-repository --repository-name \"${algorithm_name}\" > /dev/null\n",
    "fi\n",
    "\n",
    "# Get the login command from ECR and execute it directly\n",
    "aws ecr get-login-password --region ${region}|docker login --username AWS --password-stdin ${fullname}\n",
    "\n",
    "# Build the docker image locally with the image name and then push it to ECR\n",
    "# with the full name.\n",
    "\n",
    "docker build -t ${algorithm_name} -f ./Dockerfile_controlnet .\n",
    "docker tag ${algorithm_name} ${fullname}\n",
    "\n",
    "docker push ${fullname}"
   ]
  },
  {
   "cell_type": "markdown",
   "id": "1d843895",
   "metadata": {
    "pycharm": {
     "name": "#%% md\n"
    }
   },
   "source": [
    "#### 3. 模型微调\n",
    "\n",
    "   * image_uri: ecr仓库中的 docker 镜像地址\n",
    "   * instance_type: 用于训练任务的实例大小 , 建议使用 ml.g4dn.xlarge, ml.g5.xlarge\n",
    "   * class_prompt: 提示词类别\n",
    "   * instance_prompt: 用于你的图片的关键词\n",
    "   * model_name: 预训练的模型名称\n",
    "   "
   ]
  },
  {
   "cell_type": "code",
   "execution_count": 15,
   "id": "a7e2932d-e923-4ece-a510-c7d83829c5fd",
   "metadata": {
    "tags": []
   },
   "outputs": [
    {
     "name": "stdout",
     "output_type": "stream",
     "text": [
      "Overwriting ./sd_controlnet/train.sh\n"
     ]
    }
   ],
   "source": [
    "%%writefile ./sd_controlnet/train.sh\n",
    "bash ./train_controlnet_sdxl-h100.sh\n",
    "# Run this after 1st raise error\n",
    "pip uninstall torch torchvision\n",
    "pip install --pre torch torchvision --index-url https://download.pytorch.org/whl/nightly/cu118\n",
    "bash ./train_controlnet_sdxl-h100.sh"
   ]
  },
  {
   "cell_type": "code",
   "execution_count": 16,
   "id": "720c66e8-8958-47f2-bfa7-c5252fde430e",
   "metadata": {
    "tags": []
   },
   "outputs": [
    {
     "name": "stdout",
     "output_type": "stream",
     "text": [
      "Writing ./sd_controlnet/train_controlnet_sdxl.sh\n"
     ]
    }
   ],
   "source": [
    "%%writefile ./sd_controlnet/train_controlnet_sdxl.sh\n",
    "\n",
    "export WANDB_API_KEY=\"298b59ce8a416fd45b5fa9ffc17fe72327854e0c\"\n",
    "export WANDB_WATCH=\"all\"\n",
    "export WANDB_PROJECT=\"controlnet\" \n",
    "\n",
    "mkdir -p /tmp/dog\n",
    "ls -lt ./\n",
    "chmod 777 ./s5cmd\n",
    "\n",
    "\n",
    "cd diffusers && pip install -e .\n",
    "cd examples/controlnet/ && pip install -r requirements_sdxl.txt\n",
    "\n",
    "curl -s https://packagecloud.io/install/repositories/github/git-lfs/script.deb.sh | sudo bash\n",
    "sudo apt-get install git-lfs\n",
    "\n",
    "# Clone Train Dataset(for production)\n",
    "#git clone https://huggingface.co/datasets/zobnec/controlnet_fs_dataset_df /tmp/dataset/\n",
    "\n",
    "\n",
    "export MODEL_NAME=\"stabilityai/stable-diffusion-2-1-base\"\n",
    "export INSTANCE_DIR=\"/tmp/dataset/\"\n",
    "export OUTPUT_DIR=\"/tmp/ouput\"\n",
    "#export OUTPUT_DIR=\"/opt/ml/model/\"\n",
    "export controlnet_s3uri=\"s3://sagemaker-us-west-2-687912291502/stable-diffusion/controlnet/\"\n",
    "\n",
    "accelerate launch train_controlnet_sdxl.py \\\n",
    " --pretrained_model_name_or_path=$MODEL_NAME \\\n",
    " --output_dir=$OUTPUT_DIR \\\n",
    " --dataset_name=\"multimodalart/facesyntheticsspigacaptioned\" \\\n",
    " --conditioning_image_column=spiga_seg \\\n",
    " --image_column=image \\\n",
    " --caption_column=image_caption \\\n",
    " --resolution=512 \\\n",
    " --learning_rate=1e-5 \\\n",
    " --validation_image \"./face_landmarks1.jpeg\" \"./face_landmarks2.jpeg\" \"./face_landmarks3.jpeg\" \\\n",
    " --validation_prompt \"High-quality close-up dslr photo of man wearing a hat with trees in the background\" \"Girl smiling, professional dslr photograph, dark background, studio lights, high quality\" \"Portrait of a clown face, oil on canvas, bittersweet expression\" \\\n",
    " --train_batch_size=4 \\\n",
    " --num_train_epochs=3 \\\n",
    " --tracker_project_name=\"controlnet\" \\\n",
    " --enable_xformers_memory_efficient_attention \\\n",
    " --checkpointing_steps=500 \\\n",
    " --validation_steps=500 \\\n",
    " --report_to=\"wandb\" \\\n",
    " --push_to_hub\n",
    "\n",
    "\n",
    "/opt/ml/code/s5cmd sync /tmp/ouput/ $controlnet_s3uri/output/$(date +%Y-%m-%d-%H-%M-%S)/\n"
   ]
  },
  {
   "cell_type": "markdown",
   "id": "9c569c81",
   "metadata": {
    "pycharm": {
     "name": "#%% md\n"
    }
   },
   "source": [
    "   * 创建训练任务"
   ]
  },
  {
   "cell_type": "code",
   "execution_count": null,
   "id": "6535d22c-ab12-48c4-9989-5fabe4f31f69",
   "metadata": {
    "tags": []
   },
   "outputs": [],
   "source": [
    "import time\n",
    "from sagemaker.estimator import Estimator\n",
    "from sagemaker.pytorch.estimator import PyTorch\n",
    "\n",
    "environment = {\n",
    "    'PYTORCH_CUDA_ALLOC_CONF':'max_split_size_mb:32',\n",
    "    'MODEL_NAME':'stabilityai/stable-diffusion-2-1-base'\n",
    "}\n",
    "\n",
    "## The image uri which is build and pushed above\n",
    "image_uri = \"{}.dkr.ecr.{}.amazonaws.com/{}:latest\".format(account_id, region_name, repo_name)\n",
    "base_job_name = 'sd-xl-controlnet-finetuning-high'\n",
    "instance_type = 'ml.p4d.24xlarge'\n",
    "#inputs = {\n",
    "#    'images': f\"s3://{bucket}/controlnet-xl/images/\"\n",
    "#}\n",
    "\n",
    "estimator = PyTorch(role=role,\n",
    "                      entry_point='train_controlnet_sdxl.sh',\n",
    "                      source_dir='./sd_controlnet/',\n",
    "                      base_job_name=base_job_name,\n",
    "                      instance_count=1,\n",
    "                      instance_type=instance_type,\n",
    "                      image_uri=image_uri,\n",
    "                      environment=environment,\n",
    "                      keep_alive_period_in_seconds=3600, #warmpool，为下一次训练保持机器&镜像（滚动续期，最大1hour）；需要开quota。\n",
    "                      disable_profiler=True,\n",
    "                      debugger_hook_config=False,\n",
    "                      max_run=24*60*60*2)\n",
    "\n",
    "estimator.fit()"
   ]
  },
  {
   "cell_type": "code",
   "execution_count": null,
   "id": "bd181b4e-f435-4dca-842a-444d083fdf3c",
   "metadata": {
    "pycharm": {
     "name": "#%%\n"
    },
    "tags": []
   },
   "outputs": [],
   "source": [
    "print(\"Model artifact saved at:\\n\", controlnet_s3uri)"
   ]
  }
 ],
 "metadata": {
  "instance_type": "ml.m5.large",
  "kernelspec": {
   "display_name": "conda_pytorch_p310",
   "language": "python",
   "name": "conda_pytorch_p310"
  },
  "language_info": {
   "codemirror_mode": {
    "name": "ipython",
    "version": 3
   },
   "file_extension": ".py",
   "mimetype": "text/x-python",
   "name": "python",
   "nbconvert_exporter": "python",
   "pygments_lexer": "ipython3",
   "version": "3.10.12"
  }
 },
 "nbformat": 4,
 "nbformat_minor": 5
}
