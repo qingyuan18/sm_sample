{
 "cells": [
  {
   "cell_type": "code",
   "execution_count": 91,
   "id": "8314fc9b-c468-497b-abcc-259ec792154c",
   "metadata": {
    "tags": []
   },
   "outputs": [],
   "source": [
    "import sagemaker\n",
    "import boto3\n",
    "from sagemaker.pytorch import PyTorch\n",
    "sagemaker_session = sagemaker.Session()\n",
    "bucket = sagemaker_session.default_bucket()\n",
    "role = sagemaker.get_execution_role()\n",
    "account_id = boto3.client('sts').get_caller_identity().get('Account')\n",
    "region_name = boto3.session.Session().region_name\n",
    "images_s3uri = 's3://{0}/lora/images/'.format(bucket)"
   ]
  },
  {
   "cell_type": "code",
   "execution_count": 92,
   "id": "516418fb-5755-4e40-b0df-ca80c085067e",
   "metadata": {
    "collapsed": true,
    "jupyter": {
     "outputs_hidden": true
    },
    "tags": []
   },
   "outputs": [
    {
     "name": "stdout",
     "output_type": "stream",
     "text": [
      "--2023-02-28 13:23:05--  https://d1xkebsgyt7kzd.cloudfront.net/R_1.jpg\n",
      "Resolving d1xkebsgyt7kzd.cloudfront.net (d1xkebsgyt7kzd.cloudfront.net)... 13.33.100.75, 13.33.100.121, 13.33.100.45, ...\n",
      "Connecting to d1xkebsgyt7kzd.cloudfront.net (d1xkebsgyt7kzd.cloudfront.net)|13.33.100.75|:443... connected.\n",
      "HTTP request sent, awaiting response... 200 OK\n",
      "Length: 38281 (37K) [image/jpeg]\n",
      "Saving to: ‘R_1.jpg’\n",
      "\n",
      "R_1.jpg             100%[===================>]  37.38K  --.-KB/s    in 0s      \n",
      "\n",
      "2023-02-28 13:23:05 (293 MB/s) - ‘R_1.jpg’ saved [38281/38281]\n",
      "\n",
      "--2023-02-28 13:23:05--  https://d1xkebsgyt7kzd.cloudfront.net/R_2.jpg\n",
      "Resolving d1xkebsgyt7kzd.cloudfront.net (d1xkebsgyt7kzd.cloudfront.net)... 13.33.100.108, 13.33.100.45, 13.33.100.121, ...\n",
      "Connecting to d1xkebsgyt7kzd.cloudfront.net (d1xkebsgyt7kzd.cloudfront.net)|13.33.100.108|:443... connected.\n",
      "HTTP request sent, awaiting response... 200 OK\n",
      "Length: 33919 (33K) [image/jpeg]\n",
      "Saving to: ‘R_2.jpg’\n",
      "\n",
      "R_2.jpg             100%[===================>]  33.12K  --.-KB/s    in 0s      \n",
      "\n",
      "2023-02-28 13:23:05 (157 MB/s) - ‘R_2.jpg’ saved [33919/33919]\n",
      "\n",
      "--2023-02-28 13:23:05--  https://d1xkebsgyt7kzd.cloudfront.net/R_3.jpg\n",
      "Resolving d1xkebsgyt7kzd.cloudfront.net (d1xkebsgyt7kzd.cloudfront.net)... 13.33.100.75, 13.33.100.108, 13.33.100.45, ...\n",
      "Connecting to d1xkebsgyt7kzd.cloudfront.net (d1xkebsgyt7kzd.cloudfront.net)|13.33.100.75|:443... connected.\n",
      "HTTP request sent, awaiting response... 200 OK\n",
      "Length: 118319 (116K) [image/jpeg]\n",
      "Saving to: ‘R_3.jpg’\n",
      "\n",
      "R_3.jpg             100%[===================>] 115.55K  --.-KB/s    in 0.001s  \n",
      "\n",
      "2023-02-28 13:23:05 (220 MB/s) - ‘R_3.jpg’ saved [118319/118319]\n",
      "\n",
      "--2023-02-28 13:23:06--  https://d1xkebsgyt7kzd.cloudfront.net/R_4.jpg\n",
      "Resolving d1xkebsgyt7kzd.cloudfront.net (d1xkebsgyt7kzd.cloudfront.net)... 13.33.100.121, 13.33.100.75, 13.33.100.108, ...\n",
      "Connecting to d1xkebsgyt7kzd.cloudfront.net (d1xkebsgyt7kzd.cloudfront.net)|13.33.100.121|:443... connected.\n",
      "HTTP request sent, awaiting response... 200 OK\n",
      "Length: 88012 (86K) [image/jpeg]\n",
      "Saving to: ‘R_4.jpg’\n",
      "\n",
      "R_4.jpg             100%[===================>]  85.95K  --.-KB/s    in 0s      \n",
      "\n",
      "2023-02-28 13:23:06 (343 MB/s) - ‘R_4.jpg’ saved [88012/88012]\n",
      "\n",
      "--2023-02-28 13:23:06--  https://d1xkebsgyt7kzd.cloudfront.net/R_5.jpg\n",
      "Resolving d1xkebsgyt7kzd.cloudfront.net (d1xkebsgyt7kzd.cloudfront.net)... 13.33.100.45, 13.33.100.121, 13.33.100.75, ...\n",
      "Connecting to d1xkebsgyt7kzd.cloudfront.net (d1xkebsgyt7kzd.cloudfront.net)|13.33.100.45|:443... connected.\n",
      "HTTP request sent, awaiting response... 200 OK\n",
      "Length: 334713 (327K) [image/jpeg]\n",
      "Saving to: ‘R_5.jpg’\n",
      "\n",
      "R_5.jpg             100%[===================>] 326.87K  --.-KB/s    in 0.002s  \n",
      "\n",
      "2023-02-28 13:23:06 (147 MB/s) - ‘R_5.jpg’ saved [334713/334713]\n",
      "\n",
      "upload: images/R_1.jpg to s3://sagemaker-ap-southeast-1-687912291502/dreambooth/images/R_1.jpg\n",
      "upload: images/R_4.jpg to s3://sagemaker-ap-southeast-1-687912291502/dreambooth/images/R_4.jpg\n",
      "upload: images/R_5.jpg to s3://sagemaker-ap-southeast-1-687912291502/dreambooth/images/R_5.jpg\n",
      "upload: images/R_3.jpg to s3://sagemaker-ap-southeast-1-687912291502/dreambooth/images/R_3.jpg\n",
      "upload: images/R_2.jpg to s3://sagemaker-ap-southeast-1-687912291502/dreambooth/images/R_2.jpg\n"
     ]
    }
   ],
   "source": [
    "##注意：lora train的图像目录下需要metadata.jsonl，其中file_name字段必须##########3\n",
    "imgs=\"https://d1xkebsgyt7kzd.cloudfront.net/R_1.jpg,https://d1xkebsgyt7kzd.cloudfront.net/R_2.jpg,https://d1xkebsgyt7kzd.cloudfront.net/R_3.jpg,https://d1xkebsgyt7kzd.cloudfront.net/R_4.jpg,https://d1xkebsgyt7kzd.cloudfront.net/R_5.jpg\"\n",
    "for image in imgs.split(\",\"):\n",
    "    !wget $image\n",
    "!mv ./*.jpg ./images/\n",
    "!aws s3 cp images $images_s3uri --recursive"
   ]
  },
  {
   "cell_type": "code",
   "execution_count": 93,
   "id": "3656f142-057c-4bc9-bd38-ea318b8c4865",
   "metadata": {},
   "outputs": [],
   "source": [
    "#image_uri = '{0}.dkr.ecr.{1}.amazonaws.com/all-in-one-ai-stable-diffusion-webui-training'.format(account_id, region_name)\n",
    "image_uri = '687912291502.dkr.ecr.ap-southeast-1.amazonaws.com/lora-finetuning:latest'\n",
    "models_s3uri = 's3://{}/stable-diffusion/models/{}/{}'.format(bucket,'lora','model.tar.gz')"
   ]
  },
  {
   "cell_type": "code",
   "execution_count": 11,
   "id": "38dda204-a307-4776-b907-e8e3548df905",
   "metadata": {
    "tags": []
   },
   "outputs": [
    {
     "name": "stdout",
     "output_type": "stream",
     "text": [
      "train-args {\"train_dreambooth_settings\": {\"db_create_new_db_model\": true, \"db_new_model_name\": \"aws-db-new-model\", \"db_new_model_src\": \"768-v-ema.ckpt\", \"db_new_model_scheduler\": \"ddim\", \"db_create_from_hub\": false, \"db_new_model_url\": \"\", \"db_new_model_token\": \"\", \"db_new_model_extract_ema\": false, \"db_model_name\": \"\", \"db_lora_model_name\": \"\", \"db_lora_weight\": 1, \"db_lora_txt_weight\": 1, \"db_train_imagic_only\": false, \"db_use_subdir\": false, \"db_custom_model_name\": \"\", \"db_train_wizard_person\": false, \"db_train_wizard_object\": true, \"db_performance_wizard\": true}}\n",
      "train-task dreambooth\n",
      "sd-models-s3uri s3://sagemaker-ap-southeast-1-687912291502/stable-diffusion/models/\n",
      "db-models-s3uri s3://sagemaker-ap-southeast-1-687912291502/stable-diffusion/dreambooth/\n",
      "ckpt /opt/ml/input/data/models/768-v-ema.ckpt\n",
      "dreambooth-config-id dreambooth_train_config\n",
      "api-endpoint noapi\n"
     ]
    }
   ],
   "source": [
    "import json\n",
    "def json_encode_hyperparameters(hyperparameters):\n",
    "    for (k, v) in hyperparameters.items():\n",
    "        print(k, v)\n",
    "    \n",
    "    return {k: json.dumps(v) for (k, v) in hyperparameters.items()}\n",
    "\n",
    "\n",
    "\n",
    "image_uri = '687912291502.dkr.ecr.ap-southeast-1.amazonaws.com/lora-finetuning:latest'\n",
    "instance_type = 'ml.g4dn.xlarge'\n",
    "\n",
    "s3_model_output_location='s3://{}/{}/{}'.format(bucket, 'lora', 'trained_models')\n",
    "base_model_name=\"runwayml/stable-diffusion-v1-5\"\n",
    "output_dir=\"/opt/ml/model/\"\n",
    "#HUB_MODEL_ID=\"pokemon-lora\"\n",
    "dataset_name=\"lambdalabs/pokemon-blip-captions\"\n",
    "\n",
    "\n",
    "\n",
    "hyperparameters = {\n",
    "                    'model_name':'aws-trained-lora-model',\n",
    "                    'mixed_precision':'fp16',\n",
    "                    'pretrained_model_name_or_path': base_model_name,\n",
    "                    'dataset_name':dataset_name,\n",
    "                    #'train_data_dir':'/opt/ml/input/data/images/',\n",
    "                    'dataloader_num_workers':8,\n",
    "                    'max_grad_norm':1,\n",
    "                    'output_dir':output_dir,\n",
    "                    'checkpointing_steps':1000,\n",
    "                    'validation_prompt':'Totoro',\n",
    "                    'seed':1338\n",
    "                    #'manul_upload_model_path':s3_model_output_location,\n",
    "                    'resolution':512,\n",
    "                    'train_batch_size':1,\n",
    "                    'gradient_accumulation_steps':4,\n",
    "                    'learning_rate':2e-06,\n",
    "                    'lr_scheduler':'cosine',\n",
    "                    'lr_warmup_steps':0,\n",
    "                    'max_train_steps':1000\n",
    "}\n",
    "\n",
    "hyperparameters = json_encode_hyperparameters(hyperparameters)\n",
    "\n",
    "from sagemaker.estimator import Estimator\n",
    "#inputs = {\n",
    "#    'images': images_s3uri,\n",
    "#    'models': models_s3uri\n",
    "#}\n",
    "\n",
    "estimator = Estimator(\n",
    "    role = role,\n",
    "    instance_count=1,\n",
    "    instance_type = instance_type,\n",
    "    image_uri = image_uri,\n",
    "    hyperparameters = hyperparameters,\n",
    "    environment = environment\n",
    ")\n",
    "estimator.fit()\n",
    "\n"
   ]
  },
  {
   "cell_type": "code",
   "execution_count": null,
   "id": "bd181b4e-f435-4dca-842a-444d083fdf3c",
   "metadata": {
    "tags": []
   },
   "outputs": [],
   "source": [
    "lora_model_data = estimator.model_data\n",
    "print(\"Model artifact saved at:\\n\", dreambooth_model_data)"
   ]
  },
  {
   "cell_type": "code",
   "execution_count": 97,
   "id": "21b90beb-3b46-479d-a933-9540b0723331",
   "metadata": {
    "tags": []
   },
   "outputs": [
    {
     "name": "stdout",
     "output_type": "stream",
     "text": [
      "2023-02-28 14:34:09 2640400606 model.tar.gz\n"
     ]
    }
   ],
   "source": [
    "!aws s3 ls s3://sagemaker-ap-southeast-1-687912291502/dreambooth-finetuning-v3-2023-02-28-13-23-42-549/output/model.tar.gz"
   ]
  }
 ],
 "metadata": {
  "instance_type": "ml.m5.large",
  "kernelspec": {
   "display_name": "Python 3 (Data Science)",
   "language": "python",
   "name": "python3__SAGEMAKER_INTERNAL__arn:aws:sagemaker:ap-southeast-1:492261229750:image/datascience-1.0"
  },
  "language_info": {
   "codemirror_mode": {
    "name": "ipython",
    "version": 3
   },
   "file_extension": ".py",
   "mimetype": "text/x-python",
   "name": "python",
   "nbconvert_exporter": "python",
   "pygments_lexer": "ipython3",
   "version": "3.7.10"
  }
 },
 "nbformat": 4,
 "nbformat_minor": 5
}
