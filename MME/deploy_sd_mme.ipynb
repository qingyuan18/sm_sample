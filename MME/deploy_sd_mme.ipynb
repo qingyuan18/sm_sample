{
 "cells": [
  {
   "cell_type": "code",
   "execution_count": null,
   "id": "61f5155e",
   "metadata": {},
   "outputs": [],
   "source": [
    "!pip install nvidia-pyindex tritonclient[http]\n",
    "!pip install numpy\n",
    "!pip install transformers accelerate diffusers"
   ]
  },
  {
   "cell_type": "code",
   "execution_count": null,
   "id": "43673b68",
   "metadata": {},
   "outputs": [],
   "source": [
    "# imports\n",
    "import boto3\n",
    "import sagemaker\n",
    "import time\n",
    "from sagemaker import get_execution_role\n",
    "\n",
    "# variables\n",
    "s3_client = boto3.client(\"s3\")\n",
    "ts = time.strftime(\"%Y-%m-%d-%H-%M-%S\", time.gmtime())\n",
    "\n",
    "# sagemaker variables\n",
    "role = get_execution_role()\n",
    "role = \"arn:aws:iam::187838347205:role/service-role/AmazonSageMaker-ExecutionRole-20190212T141132\"\n",
    "sm_client = boto3.client(service_name=\"sagemaker\")\n",
    "runtime_sm_client = boto3.client(\"sagemaker-runtime\")\n",
    "sagemaker_session = sagemaker.Session(boto_session=boto3.Session())\n",
    "bucket = sagemaker_session.default_bucket()"
   ]
  },
  {
   "cell_type": "code",
   "execution_count": null,
   "id": "78d75369",
   "metadata": {},
   "outputs": [],
   "source": [
    "import diffusers\n",
    "import torch \n",
    "\n",
    "pipeline = diffusers.StableDiffusionPipeline.from_pretrained(\"CompVis/stable-diffusion-v1-4\",\n",
    "                                                             torch_dtype=torch.float16,\n",
    "                                                             revision=\"fp16\")\n",
    "pipeline.save_pretrained('model_repo_simple/pipeline/stable_diff')"
   ]
  },
  {
   "cell_type": "code",
   "execution_count": null,
   "id": "a9662a0b",
   "metadata": {},
   "outputs": [],
   "source": [
    "!bash conda_dependencies.sh\n",
    "!mv sd_env.tar.gz model_repo_simple/pipeliness"
   ]
  },
  {
   "cell_type": "markdown",
   "id": "75c0ca1e",
   "metadata": {},
   "source": [
    "### Package model"
   ]
  },
  {
   "cell_type": "code",
   "execution_count": null,
   "id": "c6f27d76",
   "metadata": {},
   "outputs": [],
   "source": [
    "model_name_prefix = 'stable_diff'\n",
    "model_file_name = f'{model_name_prefix}.tar.gz'"
   ]
  },
  {
   "cell_type": "code",
   "execution_count": null,
   "id": "d8f6c170",
   "metadata": {},
   "outputs": [],
   "source": [
    "\n",
    "prefix = 'stable-diffusion'\n",
    "#!tar -C model_repo_simple/ -czf $model_file_name pipeline\n",
    "#model_data_url = sagemaker_session.upload_data(path=model_file_name, key_prefix=prefix)"
   ]
  },
  {
   "cell_type": "markdown",
   "id": "52df200f",
   "metadata": {},
   "source": [
    "We will package `i` more models and send them to S3. However, Triton does not accept that models within different model repositories have similar names; so we have to replicate our model_repo_simple, change the `pipeline` folder to `pipeline_{i}`, and the model name in the config for `pipeline_{i}` as well for all subsequent models.  "
   ]
  },
  {
   "cell_type": "code",
   "execution_count": null,
   "id": "c76c97b2",
   "metadata": {},
   "outputs": [],
   "source": [
    "for i in range(1,2):\n",
    "    !cp -r model_repo_simple/ model_repo_simple_\"$i\"/\n",
    "    !mv model_repo_simple_\"$i\"/pipeline/ model_repo_simple_\"$i\"/pipeline_\"$i\"/"
   ]
  },
  {
   "cell_type": "markdown",
   "id": "6d533361",
   "metadata": {},
   "source": [
    "# !!!! At this point I manually changed the config.pbtxt for all the new pipelines\n"
   ]
  },
  {
   "cell_type": "code",
   "execution_count": null,
   "id": "35f762ba",
   "metadata": {},
   "outputs": [],
   "source": []
  },
  {
   "cell_type": "code",
   "execution_count": null,
   "id": "eb3b70fe",
   "metadata": {},
   "outputs": [],
   "source": []
  },
  {
   "cell_type": "code",
   "execution_count": null,
   "id": "2b2d11c2",
   "metadata": {},
   "outputs": [],
   "source": [
    "i= 26\n",
    "!tar -C model_repo_simple_\"$i\"/ -czf \"$model_name_prefix\"_\"$i\".tar.gz pipeline_\"$i\"\n",
    "model_file_name = f\"{model_name_prefix}_{i}.tar.gz\"\n",
    "sagemaker_session.upload_data(path=model_file_name, key_prefix=prefix)"
   ]
  },
  {
   "cell_type": "code",
   "execution_count": null,
   "id": "bbce1e88",
   "metadata": {},
   "outputs": [],
   "source": [
    "!aws s3 ls  s3://sagemaker-eu-west-1-187838347205/stable-diffusion/"
   ]
  },
  {
   "cell_type": "code",
   "execution_count": null,
   "id": "ab39ac1e",
   "metadata": {},
   "outputs": [],
   "source": [
    "# account mapping for SageMaker MME Triton Image\n",
    "account_id_map = {\n",
    "    \"us-east-1\": \"785573368785\",\n",
    "    \"us-east-2\": \"007439368137\",\n",
    "    \"us-west-1\": \"710691900526\",\n",
    "    \"us-west-2\": \"301217895009\",\n",
    "    \"eu-west-1\": \"802834080501\",\n",
    "    \"eu-west-2\": \"205493899709\",\n",
    "    \"eu-west-3\": \"254080097072\",\n",
    "    \"eu-north-1\": \"601324751636\",\n",
    "    \"eu-south-1\": \"966458181534\",\n",
    "    \"eu-central-1\": \"746233611703\",\n",
    "    \"ap-east-1\": \"110948597952\",\n",
    "    \"ap-south-1\": \"763008648453\",\n",
    "    \"ap-northeast-1\": \"941853720454\",\n",
    "    \"ap-northeast-2\": \"151534178276\",\n",
    "    \"ap-southeast-1\": \"324986816169\",\n",
    "    \"ap-southeast-2\": \"355873309152\",\n",
    "    \"cn-northwest-1\": \"474822919863\",\n",
    "    \"cn-north-1\": \"472730292857\",\n",
    "    \"sa-east-1\": \"756306329178\",\n",
    "    \"ca-central-1\": \"464438896020\",\n",
    "    \"me-south-1\": \"836785723513\",\n",
    "    \"af-south-1\": \"774647643957\",\n",
    "}\n",
    "\n",
    "region = boto3.Session().region_name\n",
    "if region not in account_id_map.keys():\n",
    "    raise (\"UNSUPPORTED REGION\")\n",
    "\n",
    "base = \"amazonaws.com.cn\" if region.startswith(\"cn-\") else \"amazonaws.com\"\n",
    "mme_triton_image_uri = (\n",
    "    \"{account_id}.dkr.ecr.{region}.{base}/sagemaker-tritonserver:22.10-py3\".format(\n",
    "        account_id=account_id_map[region], region=region, base=base\n",
    "    )\n",
    ")\n",
    "mme_triton_image_uri = \"187838347205.dkr.ecr.eu-west-1.amazonaws.com/mme-triton-custom:3\"\n"
   ]
  },
  {
   "cell_type": "code",
   "execution_count": null,
   "id": "71bc6ec8",
   "metadata": {},
   "outputs": [],
   "source": [
    "prefix = \"stable-diffusion\"\n",
    "model_data_url = f\"s3://sagemaker-eu-west-1-187838347205/{prefix}/\"\n",
    "ts = time.strftime(\"%Y-%m-%d-%H-%M-%S\", time.gmtime())\n",
    "\n",
    "container = {\"Image\": mme_triton_image_uri, \"ModelDataUrl\": model_data_url, \"Mode\": \"MultiModel\"}"
   ]
  },
  {
   "cell_type": "code",
   "execution_count": null,
   "id": "9c4a098b",
   "metadata": {},
   "outputs": [],
   "source": []
  },
  {
   "cell_type": "code",
   "execution_count": null,
   "id": "cb401ce5",
   "metadata": {},
   "outputs": [],
   "source": []
  },
  {
   "cell_type": "code",
   "execution_count": null,
   "id": "25019473",
   "metadata": {},
   "outputs": [],
   "source": [
    "sm_model_name = f\"{prefix}-mdl-{ts}\"\n",
    "\n",
    "create_model_response = sm_client.create_model(\n",
    "    ModelName=sm_model_name, ExecutionRoleArn=role, PrimaryContainer=container\n",
    ")\n",
    "\n",
    "print(\"Model Arn: \" + create_model_response[\"ModelArn\"])"
   ]
  },
  {
   "cell_type": "markdown",
   "id": "d1fc791e",
   "metadata": {},
   "source": [
    "### vpc model"
   ]
  },
  {
   "cell_type": "code",
   "execution_count": null,
   "id": "95a9cb31",
   "metadata": {},
   "outputs": [],
   "source": [
    "vpc=\"\"\n",
    "#vpc=\"-vpc\""
   ]
  },
  {
   "cell_type": "code",
   "execution_count": null,
   "id": "a54a2c26",
   "metadata": {},
   "outputs": [],
   "source": [
    "\n",
    "create_model_response = sm_client.create_model(\n",
    "    ModelName=f\"{sm_model_name}{vpc}\", ExecutionRoleArn=role,\\\n",
    "    Containers=[container],\n",
    "    VpcConfig={\n",
    "        'SecurityGroupIds': [\n",
    "            'sg-51498f2e',\n",
    "        ],\n",
    "        'Subnets': [\n",
    "            'subnet-d9513191',\n",
    "            'subnet-5da37107',\n",
    "            'subnet-653aab03'\n",
    "\n",
    "        ]\n",
    "    }\n",
    ")\n",
    "\n",
    "print(\"Model Arn: \" + create_model_response[\"ModelArn\"])"
   ]
  },
  {
   "cell_type": "code",
   "execution_count": null,
   "id": "3a1193ba",
   "metadata": {},
   "outputs": [],
   "source": [
    "endpoint_config_name = f\"{prefix}-epc-{ts}{vpc}\"\n",
    "instance_type = 'ml.g5.2xlarge'\n",
    "\n",
    "create_endpoint_config_response = sm_client.create_endpoint_config(\n",
    "    EndpointConfigName=endpoint_config_name,\n",
    "    ProductionVariants=[\n",
    "        {\n",
    "            \"InstanceType\": instance_type,\n",
    "            \"InitialVariantWeight\": 1,\n",
    "            \"InitialInstanceCount\": 1,\n",
    "            \"ModelName\": f\"{sm_model_name}{vpc}\",\n",
    "            \"VariantName\": \"AllTraffic\",\n",
    "        }\n",
    "    ],\n",
    ")\n",
    "\n",
    "print(\"Endpoint Config Arn: \" + create_endpoint_config_response[\"EndpointConfigArn\"])"
   ]
  },
  {
   "cell_type": "code",
   "execution_count": null,
   "id": "80fe88d1",
   "metadata": {},
   "outputs": [],
   "source": []
  },
  {
   "cell_type": "code",
   "execution_count": null,
   "id": "1ff14934",
   "metadata": {},
   "outputs": [],
   "source": [
    "endpoint_name = f'{prefix}-ep-{ts}{vpc}'\n",
    "\n",
    "create_endpoint_response = sm_client.create_endpoint(\n",
    "    EndpointName=endpoint_name, EndpointConfigName=endpoint_config_name\n",
    ")\n",
    "\n",
    "print(\"Endpoint Arn: \" + create_endpoint_response[\"EndpointArn\"])"
   ]
  },
  {
   "cell_type": "code",
   "execution_count": null,
   "id": "03539476",
   "metadata": {},
   "outputs": [],
   "source": [
    "resp = sm_client.describe_endpoint(EndpointName=endpoint_name)\n",
    "status = resp[\"EndpointStatus\"]\n",
    "print(\"Status: \" + status)\n",
    "\n",
    "while status == \"Creating\":\n",
    "    time.sleep(60)\n",
    "    resp = sm_client.describe_endpoint(EndpointName=endpoint_name)\n",
    "    status = resp[\"EndpointStatus\"]\n",
    "    print(\"Status: \" + status)\n",
    "\n",
    "print(\"Arn: \" + resp[\"EndpointArn\"])\n",
    "print(\"Status: \" + status)"
   ]
  },
  {
   "cell_type": "markdown",
   "id": "fa4b12c9",
   "metadata": {},
   "source": [
    "## Query the endpoint"
   ]
  },
  {
   "cell_type": "code",
   "execution_count": null,
   "id": "3cb3412e",
   "metadata": {},
   "outputs": [],
   "source": [
    "! pip install tritonclient"
   ]
  },
  {
   "cell_type": "code",
   "execution_count": null,
   "id": "ea6b7924",
   "metadata": {},
   "outputs": [],
   "source": [
    "import numpy as np\n",
    "import tritonclient.http as httpclient\n",
    "from tritonclient.utils import *\n",
    "from PIL import Image\n",
    "\n",
    "prompt = \"\"\n",
    "inputs = []\n",
    "outputs = []\n",
    "\n",
    "text_obj = np.array([prompt], dtype=\"object\").reshape((-1, 1))\n",
    "\n",
    "inputs.append(httpclient.InferInput(\"prompt\",\n",
    "                                    text_obj.shape,\n",
    "                                    np_to_triton_dtype(text_obj.dtype))\n",
    "             )\n",
    "inputs[0].set_data_from_numpy(text_obj)\n",
    "\n",
    "outputs.append(httpclient.InferRequestedOutput(\"generated_image\"))\n"
   ]
  },
  {
   "cell_type": "code",
   "execution_count": null,
   "id": "96f244fa",
   "metadata": {},
   "outputs": [],
   "source": [
    "request_body, header_length = httpclient.InferenceServerClient.generate_request_body(\n",
    "    inputs, outputs=outputs\n",
    ")\n",
    "\n",
    "print(request_body)"
   ]
  },
  {
   "cell_type": "code",
   "execution_count": null,
   "id": "60ad9ab5",
   "metadata": {},
   "outputs": [],
   "source": [
    "# Change the model_file_name to try different models"
   ]
  },
  {
   "cell_type": "code",
   "execution_count": null,
   "id": "7900c2ab",
   "metadata": {},
   "outputs": [],
   "source": [
    "model_file_name =\"stable_diff_26.tar.gz\""
   ]
  },
  {
   "cell_type": "code",
   "execution_count": null,
   "id": "e02e06f6",
   "metadata": {},
   "outputs": [],
   "source": [
    "#endpoint_name=\"stable-diffusion-ep-2023-02-09-10-07-00\"\n",
    "\n",
    "endpoint_name=\"stable-diffusion-ep-2023-03-02-16-23-13-vpc\""
   ]
  },
  {
   "cell_type": "code",
   "execution_count": null,
   "id": "5dba31c5",
   "metadata": {},
   "outputs": [],
   "source": [
    "response = runtime_sm_client.invoke_endpoint(\n",
    "    EndpointName=endpoint_name,\n",
    "    ContentType=\"application/vnd.sagemaker-triton.binary+json;json-header-size={}\".format(header_length),\n",
    "    Body=request_body,\n",
    "    TargetModel=model_file_name\n",
    ")"
   ]
  },
  {
   "cell_type": "code",
   "execution_count": null,
   "id": "d26bd1a5",
   "metadata": {},
   "outputs": [],
   "source": [
    "header_length_prefix = \"application/vnd.sagemaker-triton.binary+json;json-header-size=\"\n",
    "header_length_str = response[\"ContentType\"][len(header_length_prefix) :]\n",
    "\n",
    "# Read response body\n",
    "result = httpclient.InferenceServerClient.parse_response_body(\n",
    "    response[\"Body\"].read(), header_length=int(header_length_str)\n",
    ")\n",
    "\n",
    "image_array = result.as_numpy('generated_image')\n",
    "image = Image.fromarray(np.squeeze(image_array))"
   ]
  },
  {
   "cell_type": "code",
   "execution_count": null,
   "id": "43ce3eea",
   "metadata": {},
   "outputs": [],
   "source": [
    "image"
   ]
  },
  {
   "cell_type": "code",
   "execution_count": null,
   "id": "4c57cf75",
   "metadata": {},
   "outputs": [],
   "source": []
  }
 ],
 "metadata": {
  "kernelspec": {
   "display_name": "myenv",
   "language": "python",
   "name": "python3"
  },
  "language_info": {
   "codemirror_mode": {
    "name": "ipython",
    "version": 3
   },
   "file_extension": ".py",
   "mimetype": "text/x-python",
   "name": "python",
   "nbconvert_exporter": "python",
   "pygments_lexer": "ipython3",
   "version": "3.7.11"
  },
  "vscode": {
   "interpreter": {
    "hash": "724e8f8b227679c1abf4022f7a7ec8b7f61fa4fbca83e203acaba831bf472e7e"
   }
  }
 },
 "nbformat": 4,
 "nbformat_minor": 5
}
