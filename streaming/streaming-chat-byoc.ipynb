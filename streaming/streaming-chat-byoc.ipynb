{
 "cells": [
  {
   "cell_type": "markdown",
   "id": "dbcd9d25",
   "metadata": {
    "tags": []
   },
   "source": [
    "### SageMaker streamings LLM Inference 部署(chatglm)\n",
    "\n",
    "\n",
    "#### 前提条件\n",
    "1. 亚马逊云账号\n",
    "2. 建议使用ml.g5.xlarge\n",
    "\n",
    "### Notebook部署步骤\n",
    "1. 升级boto3, sagemaker python sdk\n",
    "2. 编译docker image\n",
    "3. 部署AIGC推理服务\n",
    "    * 配置模型参数\n",
    "    * 部署SageMaker Endpoint \n",
    "4. 测试ControlNet模型\n",
    "5. 清除资源\n"
   ]
  },
  {
   "cell_type": "markdown",
   "id": "ad363191",
   "metadata": {},
   "source": [
    "### 1. 升级boto3, sagemaker python sdk"
   ]
  },
  {
   "cell_type": "code",
   "execution_count": null,
   "id": "80f7d50f",
   "metadata": {
    "tags": []
   },
   "outputs": [],
   "source": [
    "!pip install --upgrade boto3 sagemaker"
   ]
  },
  {
   "cell_type": "code",
   "execution_count": null,
   "id": "3bcf9a6c",
   "metadata": {
    "tags": []
   },
   "outputs": [],
   "source": [
    "#导入对应的库\n",
    "\n",
    "import re\n",
    "import os\n",
    "import json\n",
    "import uuid\n",
    "\n",
    "import numpy as np\n",
    "import pandas as pd\n",
    "from time import gmtime, strftime\n",
    "\n",
    "\n",
    "import boto3\n",
    "import sagemaker\n",
    "\n",
    "from sagemaker import get_execution_role,session\n",
    "\n",
    "role = get_execution_role()\n",
    "\n",
    "\n",
    "sage_session = session.Session()\n",
    "bucket = sage_session.default_bucket()\n",
    "aws_region = boto3.Session().region_name\n",
    "\n",
    "\n",
    "print(f'sagemaker sdk version: {sagemaker.__version__}\\nrole:  {role}  \\nbucket:  {bucket}')\n",
    "\n",
    "\n"
   ]
  },
  {
   "cell_type": "markdown",
   "id": "8d2ed87a",
   "metadata": {},
   "source": [
    "### 2. 编译docker image"
   ]
  },
  {
   "cell_type": "code",
   "execution_count": null,
   "id": "43ac3947",
   "metadata": {},
   "outputs": [],
   "source": [
    "!./build_push.sh"
   ]
  },
  {
   "cell_type": "markdown",
   "id": "7a1b902f",
   "metadata": {},
   "source": [
    "### 3. 部署AIGC推理服务"
   ]
  },
  {
   "cell_type": "markdown",
   "id": "a7d87324",
   "metadata": {},
   "source": [
    "#### 3.1 创建dummy model_data 文件(真正的模型使用code/infernece.py进行加载)"
   ]
  },
  {
   "cell_type": "code",
   "execution_count": null,
   "id": "cb439f59",
   "metadata": {
    "tags": []
   },
   "outputs": [],
   "source": [
    "!touch dummy\n",
    "!tar czvf model.tar.gz dummy sagemaker-logo-small.png\n",
    "assets_dir = 's3://{0}/{1}/assets/'.format(bucket, 'chatglm')\n",
    "model_data = 's3://{0}/{1}/assets/model.tar.gz'.format(bucket, 'chatglm')\n",
    "!aws s3 cp model.tar.gz $assets_dir\n",
    "!rm -f dummy model.tar.gz"
   ]
  },
  {
   "cell_type": "markdown",
   "id": "a8d9157b",
   "metadata": {},
   "source": [
    "#### 3.2 创建 model 配置"
   ]
  },
  {
   "cell_type": "code",
   "execution_count": null,
   "id": "2f10c9c4",
   "metadata": {
    "tags": []
   },
   "outputs": [],
   "source": [
    "\n",
    "boto3_session = boto3.session.Session()\n",
    "current_region=boto3_session.region_name\n",
    "\n",
    "client = boto3.client(\"sts\")\n",
    "account_id=client.get_caller_identity()[\"Account\"]\n",
    "\n",
    "client = boto3.client('sagemaker')\n",
    "\n",
    "#使用步骤2编译好的docker images\n",
    "container = f'{account_id}.dkr.ecr.{current_region}.amazonaws.com/streaming-chat'\n",
    "model_data = f's3://{bucket}/chatglm/assets/model.tar.gz'\n",
    "model_name = 'AIGC-Quick-Kit-' +  strftime(\"%Y-%m-%d-%H-%M-%S\", gmtime())\n",
    "role = get_execution_role()\n",
    "\n",
    "\n",
    "\n",
    "primary_container = {\n",
    "    'Image': container,\n",
    "    'ModelDataUrl': model_data,\n",
    "    'Environment':{\n",
    "        'SAGEMAKER_MODEL_SERVER_TIMEOUT':'600', \n",
    "         'SAGEMAKER_MODEL_SERVER_WORKERS': '1', \n",
    "         #'MODEL_TYPE'                    : 'ptuning',\n",
    "         #'MODEL_TYPE'                    : 'full turning',\n",
    "         'MODEL_TYPE'                    : 'normal',\n",
    "         #'MODEL_S3_PATH'                 : 's3://sagemaker-us-west-2-687912291502/llm/models/chatglm/simple/adgen-chatglm-6b-ft/'\n",
    "         #'MODEL_S3_PATH'                 : 's3://sagemaker-us-west-2-687912291502/llm/models/chatglm/simple/adgen-chatglm-6b-ft/'\n",
    "    }\n",
    "}\n",
    "\n",
    "create_model_response = client.create_model(\n",
    "    ModelName = model_name,\n",
    "    ExecutionRoleArn = role,\n",
    "    PrimaryContainer = primary_container,\n",
    ")"
   ]
  },
  {
   "cell_type": "code",
   "execution_count": null,
   "id": "410970d6",
   "metadata": {
    "tags": []
   },
   "outputs": [],
   "source": [
    "_time_tag = strftime(\"%Y-%m-%d-%H-%M-%S\", gmtime())\n",
    "_variant_name =  'AIGC-Quick-Kit-'+ _time_tag\n",
    "endpoint_config_name = 'AIGC-Quick-Kit-' +  _time_tag\n",
    "\n",
    "response = client.create_endpoint_config(\n",
    "    EndpointConfigName=endpoint_config_name,\n",
    "    ProductionVariants=[\n",
    "        {\n",
    "            'VariantName': _variant_name,\n",
    "            'ModelName': model_name,\n",
    "            'InitialInstanceCount': 1,\n",
    "            'InstanceType': 'ml.g5.xlarge',\n",
    "            'InitialVariantWeight': 1\n",
    "        },\n",
    "    ]\n",
    ")"
   ]
  },
  {
   "cell_type": "markdown",
   "id": "93fa136a",
   "metadata": {},
   "source": [
    "#### 3.3 部署SageMaker endpoint"
   ]
  },
  {
   "cell_type": "code",
   "execution_count": null,
   "id": "2ca15a19",
   "metadata": {
    "tags": []
   },
   "outputs": [],
   "source": [
    "endpoint_name = f'AIGC-Quick-Kit-{str(uuid.uuid4())}'\n",
    "\n",
    "\n",
    "response = client.create_endpoint(\n",
    "    EndpointName=endpoint_name,\n",
    "    EndpointConfigName=endpoint_config_name,\n",
    "    \n",
    ")\n",
    "\n",
    "\n",
    "\n",
    "print(f'终端节点:{endpoint_name} 正在创建中，首次启动中会加载模型，请耐心等待, 请在控制台上查看状态')\n"
   ]
  },
  {
   "cell_type": "code",
   "execution_count": null,
   "id": "6c9bec0e",
   "metadata": {
    "tags": []
   },
   "outputs": [],
   "source": [
    "import time\n",
    "import uuid\n",
    "import io\n",
    "import traceback\n",
    "from PIL import Image\n",
    "\n",
    "\n",
    "s3_resource = boto3.resource('s3')\n",
    "\n",
    "def get_bucket_and_key(s3uri):\n",
    "    pos = s3uri.find('/', 5)\n",
    "    bucket = s3uri[5 : pos]\n",
    "    key = s3uri[pos + 1 : ]\n",
    "    return bucket, key\n",
    "\n",
    "\n",
    "def predict_async(endpoint_name,payload):\n",
    "    runtime_client = boto3.client('runtime.sagemaker')\n",
    "    input_file=str(uuid.uuid4())+\".json\"\n",
    "    s3_resource = boto3.resource('s3')\n",
    "    s3_object = s3_resource.Object(bucket, f'stablediffusion/asyncinvoke/input/{input_file}')\n",
    "    payload_data = json.dumps(payload).encode('utf-8')\n",
    "    s3_object.put( Body=bytes(payload_data))\n",
    "    input_location=f's3://{bucket}/stablediffusion/asyncinvoke/input/{input_file}'\n",
    "    print(f'input_location: {input_location}')\n",
    "    response = runtime_client.invoke_endpoint_async(\n",
    "        EndpointName=endpoint_name,\n",
    "        InputLocation=input_location\n",
    "    )\n",
    "    result =response.get(\"OutputLocation\",'')\n",
    "    wait_async_result(result)\n",
    "\n",
    "\n",
    "def s3_object_exists(s3_path):\n",
    "    \"\"\"\n",
    "    s3_object_exists\n",
    "    \"\"\"\n",
    "    try:\n",
    "        s3 = boto3.client('s3')\n",
    "        base_name=os.path.basename(s3_path)\n",
    "        _,ext_name=os.path.splitext(base_name)\n",
    "        bucket,key=get_bucket_and_key(s3_path)\n",
    "        \n",
    "        s3.head_object(Bucket=bucket, Key=key)\n",
    "        return True\n",
    "    except Exception as ex:\n",
    "        print(\"job is not completed, waiting...\")   \n",
    "        return False\n",
    "    \n",
    "def draw_image(output_location):\n",
    "    try:\n",
    "        bucket, key = get_bucket_and_key(output_location)\n",
    "        obj = s3_resource.Object(bucket, key)\n",
    "        body = obj.get()['Body'].read().decode('utf-8') \n",
    "        predictions = json.loads(body)\n",
    "        print(predictions['result'])\n",
    "        for image in predictions['result']:\n",
    "            bucket, key = get_bucket_and_key(image)\n",
    "            obj = s3_resource.Object(bucket, key)\n",
    "            bytes = obj.get()['Body'].read()\n",
    "            image = Image.open(io.BytesIO(bytes))\n",
    "            #resize image to 50% size\n",
    "            half = 0.5\n",
    "            out_image = image.resize( [int(half * s) for s in image.size] )\n",
    "            out_image.show()\n",
    "    except Exception as e:\n",
    "        print(\"result is not completed, waiting...\")   \n",
    "    \n",
    "\n",
    "    \n",
    "def wait_async_result(output_location,timeout=60):\n",
    "    current_time=0\n",
    "    while current_time<timeout:\n",
    "        if s3_object_exists(output_location):\n",
    "            print(\"have async result\")\n",
    "            draw_image(output_location)\n",
    "            break\n",
    "        else:\n",
    "            time.sleep(5)\n",
    "\n",
    "            \n",
    "def check_sendpoint_status(endpoint_name):\n",
    "    client = boto3.client('sagemaker')\n",
    "    response = client.describe_endpoint(\n",
    "        EndpointName=endpoint_name\n",
    "    )\n",
    "    if response['EndpointStatus'] !='InService':\n",
    "        raise Exception (f'{endpoint_name} not ready , please wait....')\n",
    "    else:\n",
    "        status = response['EndpointStatus']\n",
    "        print(f'{endpoint_name} is ready, status: {status}')"
   ]
  },
  {
   "cell_type": "markdown",
   "id": "cff8556d",
   "metadata": {},
   "source": [
    "#### 检查endpoint 状态"
   ]
  },
  {
   "cell_type": "code",
   "execution_count": null,
   "id": "66d3de15",
   "metadata": {
    "tags": []
   },
   "outputs": [],
   "source": [
    "check_sendpoint_status(endpoint_name)"
   ]
  },
  {
   "cell_type": "markdown",
   "id": "2896d014-7bc7-4b20-a43e-f4cac8ec0513",
   "metadata": {},
   "source": [
    "4.0 Basic txt2image 测试"
   ]
  },
  {
   "cell_type": "code",
   "execution_count": null,
   "id": "1757bd56-e2e8-43ff-90f5-50a7f3e35589",
   "metadata": {
    "tags": []
   },
   "outputs": [],
   "source": [
    "#AIGC Quick Kit txt2img\n",
    "inputs_txt2img = {\n",
    "    \"prompt\": \"callie, inkling, splatoon, cute, forest background\",\n",
    "    \"negative_prompt\":\"(worst quality, low quality:1.4), simple background\",\n",
    "    \"steps\":20,\n",
    "    \"sampler\":\"euler_a\",\n",
    "    \"seed\": 52362,\n",
    "    \"height\": 512, \n",
    "    \"width\": 512,\n",
    "    \"count\":2\n",
    "\n",
    "}\n",
    "start=time.time()\n",
    "predict_async(endpoint_name,inputs_txt2img)\n",
    "print(f\"Time taken: {time.time() - start}s\")"
   ]
  },
  {
   "cell_type": "code",
   "execution_count": null,
   "id": "3f440399",
   "metadata": {
    "tags": []
   },
   "outputs": [],
   "source": [
    "\n",
    "payload={\n",
    "                \"prompt\": \"taylor swift, best quality, extremely detailed\",\n",
    "                \"negative_prompt\":\"monochrome, lowres, bad anatomy, worst quality, low quality\",\n",
    "                \"steps\":20,\n",
    "                \"sampler\":\"euler_a\",\n",
    "                \"seed\":43768,\n",
    "                \"height\": 512, \n",
    "                \"width\": 512,\n",
    "                \"count\":2,\n",
    "                \"control_net_model\":\"canny\",\n",
    "                \"input_image\":\"https://hf.co/datasets/huggingface/documentation-images/resolve/main/diffusers/input_image_vermeer.png\"\n",
    "}\n",
    "\n",
    "predict_async(endpoint_name,payload)\n"
   ]
  },
  {
   "cell_type": "markdown",
   "id": "e5b92b24-0420-4fbb-822b-aeb15c006ae7",
   "metadata": {},
   "source": []
  },
  {
   "cell_type": "markdown",
   "id": "d46652be-c0c1-4486-9a9b-f66b4d5de7c2",
   "metadata": {},
   "source": []
  },
  {
   "cell_type": "code",
   "execution_count": null,
   "id": "e07c499d",
   "metadata": {
    "tags": []
   },
   "outputs": [],
   "source": [
    "payload={\n",
    "                    \"prompt\": \"room\",\n",
    "                    \"negative_prompt\":\"monochrome, lowres, bad anatomy, worst quality, low quality\",\n",
    "                    \"steps\":20,\n",
    "                    \"sampler\":\"euler_a\",\n",
    "                    \"seed\":43768,\n",
    "                    \"height\": 512,\n",
    "                    \"width\": 512,\n",
    "                    \"count\":2,\n",
    "                    \"control_net_model\":\"mlsd\",\n",
    "                    \"input_image\":\"https://huggingface.co/lllyasviel/sd-controlnet-mlsd/resolve/main/images/room.png\"\n",
    "}\n",
    "predict_async(endpoint_name,payload)"
   ]
  },
  {
   "cell_type": "markdown",
   "id": "95028c16",
   "metadata": {},
   "source": [
    "### 4. 测试"
   ]
  },
  {
   "cell_type": "code",
   "execution_count": null,
   "id": "76634c6b-a273-4d33-a9b7-98b51f435af2",
   "metadata": {},
   "outputs": [],
   "source": [
    "import json\n",
    "import boto3\n",
    "\n",
    "client = boto3.client('runtime.sagemaker')\n",
    "\n",
    "def query_endpoint_with_json_payload(encoded_json):\n",
    "    response = client.invoke_endpoint(EndpointName=endpoint_name, ContentType='application/json', Body=encoded_json)\n",
    "    return response\n",
    "\n",
    "def parse_response_texts(query_response):\n",
    "    model_predictions = json.loads(query_response['Body'].read())\n",
    "    generated_text = model_predictions[\"answer\"]\n",
    "    return generated_text\n",
    "\n",
    "payload={\"ask\":\"\"\"新加坡有什么好玩的么？\"\"\"}\n",
    "\n",
    "query_response = query_endpoint_with_json_payload(json.dumps(payload2).encode('utf-8'))\n",
    "generated_texts = parse_response_texts(query_response)\n",
    "print(generated_texts)"
   ]
  },
  {
   "cell_type": "code",
   "execution_count": null,
   "id": "b6b996ae",
   "metadata": {
    "tags": []
   },
   "outputs": [],
   "source": [
    "response = client.delete_endpoint(\n",
    "    EndpointName=endpoint_name\n",
    "    \n",
    ")\n",
    "\n",
    "response = client.delete_endpoint_config(\n",
    "    EndpointConfigName=endpoint_config_name\n",
    ")\n",
    "\n",
    "\n",
    "print(f'终端节点:{endpoint_name} 已经被清除，请在控制台上查看状态')\n"
   ]
  },
  {
   "cell_type": "code",
   "execution_count": null,
   "id": "262a998e",
   "metadata": {},
   "outputs": [],
   "source": []
  }
 ],
 "metadata": {
  "kernelspec": {
   "display_name": "conda_pytorch_p39",
   "language": "python",
   "name": "conda_pytorch_p39"
  },
  "language_info": {
   "codemirror_mode": {
    "name": "ipython",
    "version": 3
   },
   "file_extension": ".py",
   "mimetype": "text/x-python",
   "name": "python",
   "nbconvert_exporter": "python",
   "pygments_lexer": "ipython3",
   "version": "3.9.15"
  }
 },
 "nbformat": 4,
 "nbformat_minor": 5
}
