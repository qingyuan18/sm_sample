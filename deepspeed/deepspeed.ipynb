{
 "cells": [
  {
   "cell_type": "markdown",
   "id": "579322a2",
   "metadata": {},
   "source": [
    "## Stable Diffusion"
   ]
  },
  {
   "cell_type": "code",
   "execution_count": null,
   "id": "526743e2",
   "metadata": {
    "tags": []
   },
   "outputs": [],
   "source": [
    "! python -m pip install --upgrade pip\n",
    "! pip install botocore --upgrade --quiet"
   ]
  },
  {
   "cell_type": "code",
   "execution_count": null,
   "id": "3f3251ea-f540-44fc-8697-444403fc9eaf",
   "metadata": {
    "tags": []
   },
   "outputs": [],
   "source": [
    "!pip list|grep -i diffuser"
   ]
  },
  {
   "cell_type": "code",
   "execution_count": null,
   "id": "e3f648a5-8581-4945-9c2c-e30546c185f6",
   "metadata": {
    "tags": []
   },
   "outputs": [],
   "source": [
    "!echo \"Y\"|pip uninstall diffusers                     "
   ]
  },
  {
   "cell_type": "code",
   "execution_count": null,
   "id": "90adc7a9",
   "metadata": {
    "tags": []
   },
   "outputs": [],
   "source": [
    "!pip install -r /home/ec2-user/SageMaker/sm_sample/deepspeed/requirements.txt"
   ]
  },
  {
   "cell_type": "code",
   "execution_count": null,
   "id": "837b2f8d",
   "metadata": {
    "tags": []
   },
   "outputs": [],
   "source": [
    "import sagemaker\n",
    "import boto3\n",
    "sess = sagemaker.Session()\n",
    "# sagemaker session bucket -> used for uploading data, models and logs\n",
    "# sagemaker will automatically create this bucket if it not exists\n",
    "sagemaker_session_bucket=None\n",
    "if sagemaker_session_bucket is None and sess is not None:\n",
    "    # set to default bucket if a bucket name is not given\n",
    "    sagemaker_session_bucket = sess.default_bucket()\n",
    "\n",
    "try:\n",
    "    role = sagemaker.get_execution_role()\n",
    "except ValueError:\n",
    "    iam = boto3.client('iam')\n",
    "    role = iam.get_role(RoleName='sagemaker_execution_role')['Role']['Arn']\n",
    "\n",
    "sess = sagemaker.Session(default_bucket=sagemaker_session_bucket)\n",
    "\n",
    "print(f\"sagemaker role arn: {role}\")\n",
    "print(f\"sagemaker bucket: {sess.default_bucket()}\")\n",
    "print(f\"sagemaker session region: {sess.boto_region_name}\")"
   ]
  },
  {
   "cell_type": "code",
   "execution_count": null,
   "id": "0269a90a-d6c0-4d40-b491-b251079ccd46",
   "metadata": {
    "tags": []
   },
   "outputs": [],
   "source": [
    "import torch\n",
    "print(torch.__version__)  # 查看torch当前版本号\n",
    "print(torch.version.cuda)  # 编译当前版本的torch使用的cuda版本号\n",
    "print(torch.cuda.is_available())  # 查看当前cuda是否可用于当前版本的Torch，如果输出"
   ]
  },
  {
   "cell_type": "code",
   "execution_count": null,
   "id": "e0c46a53-061b-4ca1-8a68-a1f752a6e615",
   "metadata": {
    "tags": []
   },
   "outputs": [],
   "source": [
    "import os\n",
    "import json\n",
    "import boto3\n",
    "import sagemaker\n",
    "import uuid\n",
    "import torch\n",
    "from torch import autocast\n",
    "from PIL import Image\n",
    "import io\n",
    "import requests\n",
    "import traceback\n",
    "import os\n",
    "import json\n",
    "import torch\n",
    "from diffusers import StableDiffusionPipeline\n",
    "from diffusers import StableDiffusionImg2ImgPipeline\n",
    "from diffusers import StableDiffusionPipeline, DPMSolverMultistepScheduler\n",
    "import deepspeed\n",
    "\n",
    "\n",
    "\n",
    "#model_dir='/root/dreambooth/models_diffuser/'\n",
    "#model_dir='/home/ec2-user/SageMaker/dst/'\n",
    "model_dir='andite/anything-v4.0'\n",
    "#model_dir='/home/ec2-user/SageMaker/dst/'\n",
    "pipeline1 = StableDiffusionPipeline.from_pretrained(model_dir, torch_dtype=torch.float16)\n",
    "pipeline2 = StableDiffusionPipeline.from_pretrained(model_dir, torch_dtype=torch.float16)\n",
    "print(\"model loaded:\",pipeline1)\n",
    " \n",
    "torch.backends.cudnn.benchmark = True\n",
    "torch.backends.cuda.matmul.allow_tf32 = True\n",
    "pipeline1.to(\"cuda\")\n",
    "pipeline1.enable_attention_slicing()  \n",
    "pipeline2.to(\"cuda\")\n",
    "pipeline2.enable_attention_slicing()  \n",
    "\n",
    "try:\n",
    "   print(\"begin load deepspeed....\")    \n",
    "   deepspeed.init_distributed()\n",
    "   engine = deepspeed.init_inference(\n",
    "       model=getattr(pipeline2,\"model\", pipeline2),      # Transformers models\n",
    "       mp_size=1,        # Number of GPU\n",
    "       dtype=torch.float16, # dtype of the weights (fp16)\n",
    "       replace_method=\"auto\", # Lets DS autmatically identify the layer to replace\n",
    "       replace_with_kernel_inject=True, # replace the model with the kernel injector\n",
    "   )\n",
    "#\n",
    "   if hasattr(pipeline2, \"model\"):\n",
    "       pipeline4.model = engine\n",
    "\n",
    "   print('model accelarate with deepspeed!')\n",
    "except Exception as e:\n",
    "   print(\"deepspeed accelarate excpetion!\")\n",
    "   print(e)\n",
    "    \n"
   ]
  },
  {
   "cell_type": "markdown",
   "id": "d0ef7462",
   "metadata": {},
   "source": [
    "### Inference"
   ]
  },
  {
   "cell_type": "code",
   "execution_count": null,
   "id": "988518bd",
   "metadata": {
    "tags": []
   },
   "outputs": [],
   "source": [
    "from PIL import Image\n",
    "from io import BytesIO\n",
    "from IPython.display import display\n",
    "import base64\n",
    "import matplotlib.pyplot as plt\n",
    "\n",
    "# helper decoder\n",
    "def decode_base64_image(image_string):\n",
    "  base64_image = base64.b64decode(image_string)\n",
    "  buffer = BytesIO(base64_image)\n",
    "  return Image.open(buffer)\n",
    "\n",
    "# display PIL images as grid\n",
    "def display_images(images=None,columns=3, width=100, height=100):\n",
    "    plt.figure(figsize=(width, height))\n",
    "    for i, image in enumerate(images):\n",
    "        plt.subplot(int(len(images) / columns + 1), columns, i + 1)\n",
    "        plt.axis('off')\n",
    "        plt.imshow(image)\n",
    "        \n",
    "def get_bucket_and_key(s3uri):\n",
    "    pos = s3uri.find('/', 5)\n",
    "    bucket = s3uri[5 : pos]\n",
    "    key = s3uri[pos + 1 : ]\n",
    "    return bucket, key        "
   ]
  },
  {
   "cell_type": "code",
   "execution_count": null,
   "id": "80cb1171",
   "metadata": {
    "scrolled": true,
    "tags": []
   },
   "outputs": [],
   "source": [
    "import time\n",
    "s3_client = boto3.client('s3')\n",
    "prompt = \"A dog trying catch a flying pizza art drawn by disney concept artists, golden colour, high quality, highly detailed, elegant, sharp focus\"\n",
    "#prompt = \"callie, inkling, splatoon, cute, forest background\"\n",
    "#negative_prompt='(worst quality, low quality:1.4), simple background'\n",
    "#seed=270522672\n",
    "seed=546576788905676\n",
    "\n",
    "#prompt = \"priest, blue robes, 68 year old nun, national geographic, portrait, photo, photography\"\n",
    "#prompt = \"hotel room with a swimming pool outside of the window, TV on the table, moon in the sky\"\n",
    "\n",
    "start=time.time()\n",
    "generator = torch.Generator(device='cuda').manual_seed(seed)\n",
    "images = pipeline2(prompt, num_images_per_prompt=2, num_inference_steps=30, guidance_scale=7.5,generator=generator).images\n",
    "print(f\"Time taken: {time.time() - start}s\")\n",
    "ret_images=[]\n",
    "for image in images:\n",
    "   bucket, key = get_bucket_and_key(\"s3://sagemaker-us-west-2-687912291502/deepspeed/\")\n",
    "   key = '{0}{1}.png'.format(key, uuid.uuid4())\n",
    "   buf = io.BytesIO()\n",
    "   image.save(buf, format='PNG')\n",
    "   s3_client.put_object(\n",
    "       Body = buf.getvalue(), \n",
    "       Bucket = bucket, \n",
    "       Key = key, \n",
    "       ContentType = 'image/PNG'\n",
    "   )\n",
    "   ret_images.append(image)\n",
    "   print('image: ', 's3://{0}/{1}'.format(bucket, key))\n",
    "\n"
   ]
  },
  {
   "cell_type": "code",
   "execution_count": null,
   "id": "2522f3ec-d560-4ca1-929a-e710d1beb967",
   "metadata": {
    "tags": []
   },
   "outputs": [],
   "source": [
    "display_images(ret_images)"
   ]
  },
  {
   "cell_type": "code",
   "execution_count": null,
   "id": "66ec9079",
   "metadata": {
    "scrolled": true,
    "tags": []
   },
   "outputs": [],
   "source": [
    "# visualize generation\n",
    "display_images(ret_images)"
   ]
  },
  {
   "cell_type": "code",
   "execution_count": null,
   "id": "72cae7c5-9e89-4076-be9e-ae733fac27bf",
   "metadata": {},
   "outputs": [],
   "source": []
  }
 ],
 "metadata": {
  "instance_type": "ml.g4dn.xlarge",
  "kernelspec": {
   "display_name": "conda_pytorch_p39",
   "language": "python",
   "name": "conda_pytorch_p39"
  },
  "language_info": {
   "codemirror_mode": {
    "name": "ipython",
    "version": 3
   },
   "file_extension": ".py",
   "mimetype": "text/x-python",
   "name": "python",
   "nbconvert_exporter": "python",
   "pygments_lexer": "ipython3",
   "version": "3.9.15"
  }
 },
 "nbformat": 4,
 "nbformat_minor": 5
}
